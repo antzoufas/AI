{
 "cells": [
  {
   "cell_type": "code",
   "execution_count": 1,
   "metadata": {},
   "outputs": [
    {
     "name": "stdout",
     "output_type": "stream",
     "text": [
      "0\n",
      "10000\n",
      "20000\n",
      "30000\n",
      "40000\n",
      "50000\n",
      "60000\n",
      "70000\n",
      "80000\n",
      "90000\n",
      "100000\n",
      "                    review_id                 user_id  stars  \\\n",
      "0      Q1sbwvVQXV2734tPgoKj4Q  hG7b0MtEbXx5QzbzE6C_VA    1.0   \n",
      "1      GJXCdrto3ASJOqKeVWPi6Q  yXQM5uF2jS6es16SJzNHfg    5.0   \n",
      "2      2TzJjDVDEuAW6MR5Vuc1ug  n6-Gk65cPZL6Uz8qRm3NYw    5.0   \n",
      "3      yi0R0Ugj_xUx_Nek0-_Qig  dacAIZ6fTM6mqwW5uxkskg    5.0   \n",
      "4      11a8sVPMUFtaC7_ABRkmtw  ssoyf2_x0EQMed6fgHeMyQ    1.0   \n",
      "5      fdiNeiN_hoCxCMy2wTRW9g  w31MKYsNFMrjhWxxAb5wIw    4.0   \n",
      "6      G7XHMxG0bx9oBJNECG4IFg  jlu4CztcSxrKx56ba1a5AQ    3.0   \n",
      "7      8e9HxxLjjqc9ez5ezzN7iQ  d6xvYpyzcfbF_AZ8vMB7QA    1.0   \n",
      "8      qrffudO73zsslZbe8B9D3Q  sG_h0dIzTKWa3Q6fmb4u-g    2.0   \n",
      "9      RS_GTIT6836bCaPy637kNQ  nMeCE5-xsdleyxYuNZ_7rA    3.0   \n",
      "10     kbtscdyz6lvrtGjD1quQTg  FIk4lQQu1eTe2EpzQ4xhBA    4.0   \n",
      "11     -I5umRTkhw15RqpKMl_o1Q  -mA3-1mN4JIEkqOtdbNXCQ    1.0   \n",
      "12     Z7wgXp98wYB57QdRY3HQ3w  GYNnVehQeXjty0xH7-6Fhw    4.0   \n",
      "13     qlXw1JQ0UodW7qrmVgwCXw  bAhqAPoWaZYcyYi7bs024Q    4.0   \n",
      "14     JVcjMhlavKKn3UIt9p9OXA  TpyOT5E16YASd7EWjLQlrw    1.0   \n",
      "15     svK3nBU7Rk8VfGorlrN52A  NJlxGtouq06hhC7sS2ECYw    5.0   \n",
      "16     1wVA2-vQIuW_ClmXkDxqMQ  86J5DwcFk4f4In1Vxe2TvA    4.0   \n",
      "17     6BnQwlxRn7ZuWdzninM9sQ  JSrP-dUmLlwZiI7Dp3PQ2A    3.0   \n",
      "18     rEITo90tpyKmEfNDp3Ou3A  6Fz_nus_OG4gar721OKgZA    5.0   \n",
      "19     4bUyL7lzoWzDZaJETAKREg  _N7Ndn29bpll_961oPeEfw    3.0   \n",
      "20     Amo5gZBvCuPc_tZNpHwtsA  DzZ7piLBF-WsJxqosfJgtA    5.0   \n",
      "21     IPw8yWiyqnfBzzWmypUHgg  5JVY32_bmTBfIGpCCsnAfw    5.0   \n",
      "22     IByf6mVY0WA838XNSh-5MA  3CJUJILq7CLHk_9OrvpvQg    4.0   \n",
      "23     S337tATeouQJdoPYyir29w  2mxBNBeFrgDszqGS5tdEHA    5.0   \n",
      "24     D_UvaenM25iNd6aehTZ0MA  8NwU4TRsD3S6gIfBqFzDMQ    5.0   \n",
      "25     I9HBDyzCqLhTYHCAZIFZQQ  vXZeHaLvdfCPATz5BDavow    5.0   \n",
      "26     W1wbNaUnbMy4b9QqY3_SAg  vDr8hBNYigiY70fk1kF5iQ    1.0   \n",
      "27     qm97yMwREr7BKkexlwLFbg  TTRVdTXKcq-xn6-1IWbwEw    5.0   \n",
      "28     1daGBpea0sleayFeeXuoYw  q3GeSW9dWN9r_ocqFkhrvg    1.0   \n",
      "29     DAC4zWY2ZMa1vxpN9RrDvA  yxyRt-zoh_A6PMThX-h9Vw    1.0   \n",
      "...                       ...                     ...    ...   \n",
      "99970  MjhzFtzINHDYJMxu4IvYvg  g1P3KlkiA3MUwt4Pvm0SXA    5.0   \n",
      "99971  ECnPVSFcavLlhgd57BWJRw  zrHhzP4omVmB2yCFDzR00Q    2.0   \n",
      "99972  CNO_xObgqsXaBH7Mcb8W2Q  p8Og6MvCiodEv7XL_NlaAQ    4.0   \n",
      "99973  Fe4GwsVIFfJkwubbIrc7aQ  465fjgHXu7WITbSWdwm4Dg    4.0   \n",
      "99974  O85p9UxDH7L5_U2eLLbx5w  gsJS7cL9_cwFrruqjrM20g    2.0   \n",
      "99975  3r4FB_M9BodsDp8-N1cfVQ  nlx3WP91zot51pyl6qHMYA    2.0   \n",
      "99976  qXs3GZUI7_-UmSvTu6iauA  tvftg763t5Y2mmWi_138pA    4.0   \n",
      "99977  oDit9rLzKGtIMKRHozHK0w  d7_iGz6hBkfwj7Vg2Zt0Tw    5.0   \n",
      "99978  L4LgLCqFIXJfKe-BteOuxw  e27QXkUVQ3WLvZVrLCBfWw    5.0   \n",
      "99979  r_kCXWdA3HNgGVDbgR7Q3A  IYSP1bia4DH3mI2em4N53Q    3.0   \n",
      "99980  kDZtj-Y3q-USTkvLSSMxdw  sTbMiDUDE4_NFEZXZnL8MQ    5.0   \n",
      "99981  AefyW4cMk6x7BoqONvVZlg  KOCTzVjNJC00kCfLTzYe4A    1.0   \n",
      "99982  HSyW6gxEKguITFecPr92qQ  s0wOwU_bkxfTMW2oFnM_tQ    5.0   \n",
      "99983  1o83ymVnC4tTsixb90JY5w  zwpP3Lt8USKS91Ds52G8UA    4.0   \n",
      "99984  yxjwVD3wuSdoK1oE91xzFA  yvcSQO37U-ApmLt45qKeYw    4.0   \n",
      "99985  xWPCxUwx2mRhCPx7L7L4fA  mJtzqCBsNJUQY91RBTSiDA    5.0   \n",
      "99986  EASZg9QBT1hocltQ7ZYJoA  SdJ_D7kirRYOlVDKc8ahTQ    3.0   \n",
      "99987  juogz8FFXmZQ_mrbLMl07w  Em4XpeXTKXVy4GjBL291pA    4.0   \n",
      "99988  DjHRJGo6wWFJ5GK2Kpg9Cg  PKEzKWv_FktMm2mGPjwd0Q    4.0   \n",
      "99989  xCIQz58OIKbrpTnGhpsj2g  ZasnMM8_txs6ilZUF_P57A    3.0   \n",
      "99990  BiXwdKpvQTLu1mLRCFWctg  Vc1Vb_w6B3G-a8PP7pQ2HQ    5.0   \n",
      "99991  2ANCxGG8is_YMZTMqsCclQ  v-r0WXx67nJrKdiPwOoDYw    5.0   \n",
      "99992  xAKRKU6y3mn8ZRH5W-pIzQ  M1R6MCqbBWwOtXe6JyzvqA    5.0   \n",
      "99993  1gKfqQK3gwEHMo55ox3CxA  lGNOQpsC84S-bfVq_5QtTA    5.0   \n",
      "99994  L7JDYnmBF17MaX7olJiEtQ  pRef2N4IFtTcIbYYA4giaA    3.0   \n",
      "99995  R3OQnzCBPtD6e3XJbm7vaw  kZA-neTnGq6gzLt7k70kEQ    3.0   \n",
      "99996  C0M_WaqYfHZTuE4Y6t-imA  7D4A_euL-c2-X9d51TnZtw    1.0   \n",
      "99997  AYSWzH_46u-ZosyA-_z24A  Mfn6rBrTZg1ysBoknKt1TQ    5.0   \n",
      "99998  zn9SwnAilArrWHKZ8141Tg  _D9uaoR1I9o2aIEODh4r9A    5.0   \n",
      "99999  mOMTlXyIUF6v8n9yUgZDgA  zemsVfzVyyJDPRg6742H4Q    5.0   \n",
      "\n",
      "                                                    text  \n",
      "0      Total bill for this horrible service? Over $8G...  \n",
      "1      I *adore* Travis at the Hard Rock's new Kelly ...  \n",
      "2      I have to say that this office really has it t...  \n",
      "3      Went in for a lunch. Steak sandwich was delici...  \n",
      "4      Today was my second out of three sessions I ha...  \n",
      "5      I'll be the first to admit that I was not exci...  \n",
      "6      Tracy dessert had a big name in Hong Kong and ...  \n",
      "7      This place has gone down hill.  Clearly they h...  \n",
      "8      I was really looking forward to visiting after...  \n",
      "9      It's a giant Best Buy with 66 registers.  I do...  \n",
      "10     Like walking back in time, every Saturday morn...  \n",
      "11     Walked in around 4 on a Friday afternoon, we s...  \n",
      "12     Wow. So surprised at the one and two star revi...  \n",
      "13     Michael from Red Carpet VIP is amazing ! I rea...  \n",
      "14     I cannot believe how things have changed in 3 ...  \n",
      "15     You can't really find anything wrong with this...  \n",
      "16     Great lunch today. Staff was very helpful in a...  \n",
      "17     I love chinese food and I love mexican food. W...  \n",
      "18     We've been a huge Slim's fan since they opened...  \n",
      "19     Good selection of classes of beers and mains. ...  \n",
      "20     Our family LOVES the food here. Quick, friendl...  \n",
      "21     If you are looking for the best pierogies in P...  \n",
      "22     The food is always good and the prices are rea...  \n",
      "23     Pick any meat on the planet and the chef will ...  \n",
      "24     Great food, great service. Obviously fried chi...  \n",
      "25     PlumbSmart provided superior service from begi...  \n",
      "26     Unfortunately, I must recommend not to conduct...  \n",
      "27     their pettuccine was fresh-made in the morning...  \n",
      "28     if i can give this place no stars i would, i o...  \n",
      "29     This review is in regards to our experience wa...  \n",
      "...                                                  ...  \n",
      "99970  This is the best kosher market in the Valley. ...  \n",
      "99971  This review is mainly based on the service we ...  \n",
      "99972  Awesome & great tasting food, extremely long l...  \n",
      "99973  They have a great selection of clothes for my ...  \n",
      "99974  I went to this timmies to get some coffee and ...  \n",
      "99975  I'm not certain why people would pay for this....  \n",
      "99976  I was attending the Action on Film Megafest an...  \n",
      "99977  I love this office and the care takers in it a...  \n",
      "99978  Stopped in for the Saturday Brunch with unlimi...  \n",
      "99979  I have ordered a couple of sandwiches from thi...  \n",
      "99980  After dealing with another company that wanted...  \n",
      "99981  Unfortunately I had an awful experience with t...  \n",
      "99982  Ordered in on a rainy windy day, they accommod...  \n",
      "99983  The Tempe location always has excellent servic...  \n",
      "99984  La bouffe est bonne, le service est bon. On a ...  \n",
      "99985  great food at a reasonable price....bartenders...  \n",
      "99986  Checked out Lucky Lou's for happy hour last ni...  \n",
      "99987  I came here lastnight with my 4 other friends....  \n",
      "99988  I have used Rain in both of its spellings for ...  \n",
      "99989  This place has a nice vibe and ambiance to it....  \n",
      "99990  I Originally came here because I saw pictures ...  \n",
      "99991  This is one of my favorite escape rooms I have...  \n",
      "99992  The food is very good.  It's worth a trip just...  \n",
      "99993  Hands down the best Thai food in Charlotte. Re...  \n",
      "99994  First Vegas buffet in the books, and here's th...  \n",
      "99995  I love the clothes in Aritzia. The service I c...  \n",
      "99996  We went here to have a small dinner with famil...  \n",
      "99997  Amazing!!! Our 2 boys never had this much fun ...  \n",
      "99998  Wanted a short hair cut but didn't have a regu...  \n",
      "99999  This place is rad! Dueling pianos, happy hour ...  \n",
      "\n",
      "[100000 rows x 4 columns]\n"
     ]
    }
   ],
   "source": [
    "import numpy as np \n",
    "import pandas as pd \n",
    "import re\n",
    "import nltk \n",
    "import json\n",
    "import matplotlib.pyplot as plt\n",
    "%matplotlib inline\n",
    "# open input file: \n",
    "ifile = open('C:\\\\Users\\\\Alexandros Ntzoufas\\\\Desktop\\\\MSC in BA\\\\3) Spring\\\\Big data contect analytics\\\\Projects Guide\\\\xaa.json', encoding='utf8') \n",
    "\n",
    "# read the first 100k entries\n",
    "# set to -1 to process everything\n",
    "stop = 100000\n",
    "all_data = list()\n",
    "for i, line in enumerate(ifile):\n",
    "    if i%10000==0:\n",
    "        print(i)\n",
    "    if i==stop:\n",
    "        break    \n",
    "    # convert the json on this line to a dict\n",
    "    data = json.loads(line)\n",
    "    # extract what we want\n",
    "    review_id=data['review_id']\n",
    "    user_id=data['user_id']\n",
    "    text = data['text']\n",
    "    stars = data['stars']\n",
    "    # add to the data collected so far\n",
    "    all_data.append([review_id, user_id, stars, text])\n",
    "# create the DataFrame\n",
    "df = pd.DataFrame(all_data, columns=['review_id','user_id','stars','text'])\n",
    "print(df)\n",
    "\n",
    "ifile.close()\n",
    "\n",
    "\n",
    "df['sentiment']=\"\"\n",
    "df.loc[df['stars']==1, ['sentiment']]='negative' \n",
    "df.loc[df['stars']==2, ['sentiment']]='negative'\n",
    "df.loc[df['stars']==3, ['sentiment']]='neutral'\n",
    "df.loc[df['stars']==4, ['sentiment']]='posotive'\n",
    "df.loc[df['stars']==5, ['sentiment']]='posotive'\n",
    "\n",
    "df= df.drop(['review_id', 'user_id', 'stars'], axis=1)"
   ]
  },
  {
   "cell_type": "code",
   "execution_count": 79,
   "metadata": {},
   "outputs": [
    {
     "data": {
      "text/html": [
       "<div>\n",
       "<style scoped>\n",
       "    .dataframe tbody tr th:only-of-type {\n",
       "        vertical-align: middle;\n",
       "    }\n",
       "\n",
       "    .dataframe tbody tr th {\n",
       "        vertical-align: top;\n",
       "    }\n",
       "\n",
       "    .dataframe thead th {\n",
       "        text-align: right;\n",
       "    }\n",
       "</style>\n",
       "<table border=\"1\" class=\"dataframe\">\n",
       "  <thead>\n",
       "    <tr style=\"text-align: right;\">\n",
       "      <th></th>\n",
       "      <th>text</th>\n",
       "      <th>sentiment</th>\n",
       "    </tr>\n",
       "  </thead>\n",
       "  <tbody>\n",
       "    <tr>\n",
       "      <th>0</th>\n",
       "      <td>Total bill for this horrible service? Over $8G...</td>\n",
       "      <td>negative</td>\n",
       "    </tr>\n",
       "    <tr>\n",
       "      <th>1</th>\n",
       "      <td>I *adore* Travis at the Hard Rock's new Kelly ...</td>\n",
       "      <td>posotive</td>\n",
       "    </tr>\n",
       "    <tr>\n",
       "      <th>2</th>\n",
       "      <td>I have to say that this office really has it t...</td>\n",
       "      <td>posotive</td>\n",
       "    </tr>\n",
       "    <tr>\n",
       "      <th>3</th>\n",
       "      <td>Went in for a lunch. Steak sandwich was delici...</td>\n",
       "      <td>posotive</td>\n",
       "    </tr>\n",
       "    <tr>\n",
       "      <th>4</th>\n",
       "      <td>Today was my second out of three sessions I ha...</td>\n",
       "      <td>negative</td>\n",
       "    </tr>\n",
       "  </tbody>\n",
       "</table>\n",
       "</div>"
      ],
      "text/plain": [
       "                                                text sentiment\n",
       "0  Total bill for this horrible service? Over $8G...  negative\n",
       "1  I *adore* Travis at the Hard Rock's new Kelly ...  posotive\n",
       "2  I have to say that this office really has it t...  posotive\n",
       "3  Went in for a lunch. Steak sandwich was delici...  posotive\n",
       "4  Today was my second out of three sessions I ha...  negative"
      ]
     },
     "execution_count": 79,
     "metadata": {},
     "output_type": "execute_result"
    }
   ],
   "source": [
    "df.head()"
   ]
  },
  {
   "cell_type": "code",
   "execution_count": 80,
   "metadata": {},
   "outputs": [
    {
     "data": {
      "text/html": [
       "        <script type=\"text/javascript\">\n",
       "        window.PlotlyConfig = {MathJaxConfig: 'local'};\n",
       "        if (window.MathJax) {MathJax.Hub.Config({SVG: {font: \"STIX-Web\"}});}\n",
       "        if (typeof require !== 'undefined') {\n",
       "        require.undef(\"plotly\");\n",
       "        requirejs.config({\n",
       "            paths: {\n",
       "                'plotly': ['https://cdn.plot.ly/plotly-latest.min']\n",
       "            }\n",
       "        });\n",
       "        require(['plotly'], function(Plotly) {\n",
       "            window._Plotly = Plotly;\n",
       "        });\n",
       "        }\n",
       "        </script>\n",
       "        "
      ]
     },
     "metadata": {},
     "output_type": "display_data"
    },
    {
     "data": {
      "application/vnd.plotly.v1+json": {
       "config": {
        "linkText": "Export to plot.ly",
        "plotlyServerURL": "https://plot.ly",
        "showLink": true
       },
       "data": [
        {
         "marker": {
          "color": "rgba(255, 153, 51, 0.6)",
          "line": {
           "color": "rgba(255, 153, 51, 1.0)",
           "width": 1
          }
         },
         "name": "sentiment",
         "orientation": "v",
         "text": "",
         "type": "bar",
         "uid": "b7baa7a4-4754-4cd9-902f-38f595ddc74b",
         "x": [
          "posotive",
          "negative",
          "neutral"
         ],
         "y": [
          66470,
          22560,
          10970
         ]
        }
       ],
       "layout": {
        "legend": {
         "bgcolor": "#F5F6F9",
         "font": {
          "color": "#4D5663"
         }
        },
        "paper_bgcolor": "#F5F6F9",
        "plot_bgcolor": "#F5F6F9",
        "title": {
         "font": {
          "color": "#4D5663"
         },
         "text": " Type of reviews"
        },
        "xaxis": {
         "gridcolor": "#E1E5ED",
         "showgrid": true,
         "tickfont": {
          "color": "#4D5663"
         },
         "title": {
          "font": {
           "color": "#4D5663"
          },
          "text": ""
         },
         "zerolinecolor": "#E1E5ED"
        },
        "yaxis": {
         "gridcolor": "#E1E5ED",
         "showgrid": true,
         "tickfont": {
          "color": "#4D5663"
         },
         "title": {
          "font": {
           "color": "#4D5663"
          },
          "text": "Number of review"
         },
         "zerolinecolor": "#E1E5ED"
        }
       }
      },
      "text/html": [
       "<div>\n",
       "        \n",
       "        \n",
       "            <div id=\"9a267ae9-860b-4716-8856-f8ae8a8e3449\" class=\"plotly-graph-div\" style=\"height:525px; width:100%;\"></div>\n",
       "            <script type=\"text/javascript\">\n",
       "                require([\"plotly\"], function(Plotly) {\n",
       "                    window.PLOTLYENV=window.PLOTLYENV || {};\n",
       "                    window.PLOTLYENV.BASE_URL='https://plot.ly';\n",
       "                    \n",
       "                if (document.getElementById(\"9a267ae9-860b-4716-8856-f8ae8a8e3449\")) {\n",
       "                    Plotly.newPlot(\n",
       "                        '9a267ae9-860b-4716-8856-f8ae8a8e3449',\n",
       "                        [{\"marker\": {\"color\": \"rgba(255, 153, 51, 0.6)\", \"line\": {\"color\": \"rgba(255, 153, 51, 1.0)\", \"width\": 1}}, \"name\": \"sentiment\", \"orientation\": \"v\", \"text\": \"\", \"type\": \"bar\", \"uid\": \"b7baa7a4-4754-4cd9-902f-38f595ddc74b\", \"x\": [\"posotive\", \"negative\", \"neutral\"], \"y\": [66470, 22560, 10970]}],\n",
       "                        {\"legend\": {\"bgcolor\": \"#F5F6F9\", \"font\": {\"color\": \"#4D5663\"}}, \"paper_bgcolor\": \"#F5F6F9\", \"plot_bgcolor\": \"#F5F6F9\", \"title\": {\"font\": {\"color\": \"#4D5663\"}, \"text\": \" Type of reviews\"}, \"xaxis\": {\"gridcolor\": \"#E1E5ED\", \"showgrid\": true, \"tickfont\": {\"color\": \"#4D5663\"}, \"title\": {\"font\": {\"color\": \"#4D5663\"}, \"text\": \"\"}, \"zerolinecolor\": \"#E1E5ED\"}, \"yaxis\": {\"gridcolor\": \"#E1E5ED\", \"showgrid\": true, \"tickfont\": {\"color\": \"#4D5663\"}, \"title\": {\"font\": {\"color\": \"#4D5663\"}, \"text\": \"Number of review\"}, \"zerolinecolor\": \"#E1E5ED\"}},\n",
       "                        {\"showLink\": true, \"linkText\": \"Export to plot.ly\", \"plotlyServerURL\": \"https://plot.ly\", \"responsive\": true}\n",
       "                    ).then(function(){\n",
       "                            \n",
       "var gd = document.getElementById('9a267ae9-860b-4716-8856-f8ae8a8e3449');\n",
       "var x = new MutationObserver(function (mutations, observer) {{\n",
       "        var display = window.getComputedStyle(gd).display;\n",
       "        if (!display || display === 'none') {{\n",
       "            console.log([gd, 'removed!']);\n",
       "            Plotly.purge(gd);\n",
       "            observer.disconnect();\n",
       "        }}\n",
       "}});\n",
       "\n",
       "// Listen for the removal of the full notebook cells\n",
       "var notebookContainer = gd.closest('#notebook-container');\n",
       "if (notebookContainer) {{\n",
       "    x.observe(notebookContainer, {childList: true});\n",
       "}}\n",
       "\n",
       "// Listen for the clearing of the current output cell\n",
       "var outputEl = gd.closest('.output');\n",
       "if (outputEl) {{\n",
       "    x.observe(outputEl, {childList: true});\n",
       "}}\n",
       "\n",
       "                        })\n",
       "                };\n",
       "                });\n",
       "            </script>\n",
       "        </div>"
      ]
     },
     "metadata": {},
     "output_type": "display_data"
    }
   ],
   "source": [
    "import cufflinks as cf\n",
    "cf.go_offline()\n",
    "cf.set_config_file(offline=False, world_readable=True)\n",
    "df['sentiment'].value_counts().sort_values(ascending=False).iplot(kind='bar', yTitle='Number of review', \n",
    "                                                                title=' Type of reviews')"
   ]
  },
  {
   "cell_type": "code",
   "execution_count": 2,
   "metadata": {},
   "outputs": [],
   "source": [
    "from nltk.corpus import stopwords\n",
    "\n",
    "df = df.reset_index(drop=True)\n",
    "replace_by_space = re.compile('[/(){}\\[\\]\\|@,;]')\n",
    "exclude_bad_symbols = re.compile('[^0-9a-z #+_]')\n",
    "stopwords = set(stopwords.words('english'))\n",
    "\n",
    "def clean_text(text):\n",
    "    \"\"\"\n",
    "        text: a string\n",
    "        \n",
    "        return: modified initial string\n",
    "    \"\"\"\n",
    "    text = text.lower() # lowercase text\n",
    "    text = replace_by_space.sub(' ', text) # replace by spac \n",
    "    text = exclude_bad_symbols.sub('', text) # remove symbols  \n",
    "    text = text.replace('x', '')\n",
    "#    text = re.sub(r'\\W+', '', text)\n",
    "    text = ' '.join(word for word in text.split() if word not in stopwords) # remove stopwors \n",
    "    return text\n",
    "df['text'] = df['text'].apply(clean_text)\n",
    "df['text'] = df['text'].str.replace('\\d+', '')\n"
   ]
  },
  {
   "cell_type": "code",
   "execution_count": 9,
   "metadata": {},
   "outputs": [
    {
     "ename": "NameError",
     "evalue": "name 'print_plot' is not defined",
     "output_type": "error",
     "traceback": [
      "\u001b[1;31m---------------------------------------------------------------------------\u001b[0m",
      "\u001b[1;31mNameError\u001b[0m                                 Traceback (most recent call last)",
      "\u001b[1;32m<ipython-input-9-f8810971151c>\u001b[0m in \u001b[0;36m<module>\u001b[1;34m\u001b[0m\n\u001b[1;32m----> 1\u001b[1;33m \u001b[0mprint_plot\u001b[0m\u001b[1;33m(\u001b[0m\u001b[1;36m10\u001b[0m\u001b[1;33m)\u001b[0m\u001b[1;33m\u001b[0m\u001b[1;33m\u001b[0m\u001b[0m\n\u001b[0m",
      "\u001b[1;31mNameError\u001b[0m: name 'print_plot' is not defined"
     ]
    }
   ],
   "source": [
    "print_plot(10)\n"
   ]
  },
  {
   "cell_type": "code",
   "execution_count": 3,
   "metadata": {},
   "outputs": [
    {
     "name": "stderr",
     "output_type": "stream",
     "text": [
      "Using TensorFlow backend.\n"
     ]
    },
    {
     "name": "stdout",
     "output_type": "stream",
     "text": [
      "Found 137484 unique tokens.\n"
     ]
    }
   ],
   "source": [
    "from keras.preprocessing.text import Tokenizer\n",
    "# The maximum number of words to be used. (most frequent)\n",
    "MAX_NB_WORDS = 50000\n",
    "# Max number of words in each complaint.\n",
    "MAX_SEQUENCE_LENGTH = 250\n",
    "# This is fixed.\n",
    "EMBEDDING_DIM = 100\n",
    "tokenizer = Tokenizer(num_words=MAX_NB_WORDS, filters='!\"#$%&()*+,-./:;<=>?@[\\]^_`{|}~', lower=True)\n",
    "tokenizer.fit_on_texts(df['text'].values)\n",
    "word_index = tokenizer.word_index\n",
    "print('Found %s unique tokens.' % len(word_index))"
   ]
  },
  {
   "cell_type": "code",
   "execution_count": 4,
   "metadata": {},
   "outputs": [
    {
     "name": "stdout",
     "output_type": "stream",
     "text": [
      "Shape of data tensor: (100000, 250)\n"
     ]
    }
   ],
   "source": [
    "from keras.preprocessing.sequence import pad_sequences\n",
    "\n",
    "X = tokenizer.texts_to_sequences(df['text'].values)\n",
    "X = pad_sequences(X, maxlen=MAX_SEQUENCE_LENGTH)\n",
    "print('Shape of data tensor:', X.shape)"
   ]
  },
  {
   "cell_type": "code",
   "execution_count": 5,
   "metadata": {},
   "outputs": [
    {
     "name": "stdout",
     "output_type": "stream",
     "text": [
      "Shape of label tensor: (100000, 3)\n"
     ]
    }
   ],
   "source": [
    "Y = pd.get_dummies(df['sentiment']).values\n",
    "print('Shape of label tensor:', Y.shape)"
   ]
  },
  {
   "cell_type": "code",
   "execution_count": 6,
   "metadata": {},
   "outputs": [
    {
     "name": "stdout",
     "output_type": "stream",
     "text": [
      "Shape of label tensor: (100000, 3)\n"
     ]
    }
   ],
   "source": [
    "import pandas as pd\n",
    "Y = pd.get_dummies(df['sentiment']).values\n",
    "print('Shape of label tensor:', Y.shape)"
   ]
  },
  {
   "cell_type": "code",
   "execution_count": 7,
   "metadata": {},
   "outputs": [
    {
     "name": "stdout",
     "output_type": "stream",
     "text": [
      "(90000, 250) (90000, 3)\n",
      "(10000, 250) (10000, 3)\n"
     ]
    }
   ],
   "source": [
    "from sklearn.model_selection import train_test_split\n",
    "import numpy as np\n",
    "X_train, X_test, Y_train, Y_test = train_test_split(X,Y, test_size = 0.10, random_state = 42)\n",
    "print(X_train.shape,Y_train.shape)\n",
    "print(X_test.shape,Y_test.shape)"
   ]
  },
  {
   "cell_type": "code",
   "execution_count": 8,
   "metadata": {},
   "outputs": [
    {
     "name": "stdout",
     "output_type": "stream",
     "text": [
      "WARNING:tensorflow:From C:\\Users\\Alexandros Ntzoufas\\Anaconda3\\lib\\site-packages\\tensorflow\\python\\framework\\op_def_library.py:263: colocate_with (from tensorflow.python.framework.ops) is deprecated and will be removed in a future version.\n",
      "Instructions for updating:\n",
      "Colocations handled automatically by placer.\n",
      "WARNING:tensorflow:From C:\\Users\\Alexandros Ntzoufas\\Anaconda3\\lib\\site-packages\\keras\\backend\\tensorflow_backend.py:3445: calling dropout (from tensorflow.python.ops.nn_ops) with keep_prob is deprecated and will be removed in a future version.\n",
      "Instructions for updating:\n",
      "Please use `rate` instead of `keep_prob`. Rate should be set to `rate = 1 - keep_prob`.\n",
      "_________________________________________________________________\n",
      "Layer (type)                 Output Shape              Param #   \n",
      "=================================================================\n",
      "embedding_1 (Embedding)      (None, 250, 100)          5000000   \n",
      "_________________________________________________________________\n",
      "spatial_dropout1d_1 (Spatial (None, 250, 100)          0         \n",
      "_________________________________________________________________\n",
      "lstm_1 (LSTM)                (None, 100)               80400     \n",
      "_________________________________________________________________\n",
      "dense_1 (Dense)              (None, 3)                 303       \n",
      "=================================================================\n",
      "Total params: 5,080,703\n",
      "Trainable params: 5,080,703\n",
      "Non-trainable params: 0\n",
      "_________________________________________________________________\n"
     ]
    }
   ],
   "source": [
    "from keras.models import Sequential\n",
    "from keras.layers import Embedding\n",
    "from keras import layers\n",
    "from keras.layers.core import Dense, SpatialDropout1D\n",
    "from keras.layers.recurrent import LSTM\n",
    "from keras.callbacks import ModelCheckpoint, EarlyStopping\n",
    "\n",
    "model = Sequential()\n",
    "model.add(Embedding(MAX_NB_WORDS, EMBEDDING_DIM, input_length=X.shape[1]))\n",
    "model.add(SpatialDropout1D(0.2))\n",
    "model.add(LSTM(100, dropout=0.2, recurrent_dropout=0.2))\n",
    "model.add(Dense(3, activation='softmax'))\n",
    "model.compile(loss='categorical_crossentropy', optimizer='adam', metrics=['accuracy'])\n",
    "model.summary()\n"
   ]
  },
  {
   "cell_type": "code",
   "execution_count": 10,
   "metadata": {},
   "outputs": [
    {
     "name": "stdout",
     "output_type": "stream",
     "text": [
      "Train on 81000 samples, validate on 9000 samples\n",
      "Epoch 1/15\n",
      "81000/81000 [==============================] - 482s 6ms/step - loss: 0.4412 - acc: 0.8350 - val_loss: 0.3815 - val_acc: 0.8503\n",
      "Epoch 2/15\n",
      "81000/81000 [==============================] - 459s 6ms/step - loss: 0.3409 - acc: 0.8694 - val_loss: 0.3849 - val_acc: 0.8480\n",
      "Epoch 3/15\n",
      "81000/81000 [==============================] - 478s 6ms/step - loss: 0.2841 - acc: 0.8923 - val_loss: 0.4045 - val_acc: 0.8492\n",
      "Epoch 4/15\n",
      "81000/81000 [==============================] - 488s 6ms/step - loss: 0.2391 - acc: 0.9092 - val_loss: 0.4268 - val_acc: 0.8422\n",
      "Epoch 5/15\n",
      "81000/81000 [==============================] - 488s 6ms/step - loss: 0.1975 - acc: 0.9260 - val_loss: 0.4860 - val_acc: 0.8403\n",
      "Epoch 6/15\n",
      "81000/81000 [==============================] - 463s 6ms/step - loss: 0.1676 - acc: 0.9380 - val_loss: 0.5178 - val_acc: 0.8353\n"
     ]
    }
   ],
   "source": [
    "epochs = 15\n",
    "batch_size = 64\n",
    "\n",
    "history = model.fit(X_train, Y_train, epochs=epochs, batch_size=batch_size,validation_split=0.1,callbacks=[EarlyStopping(monitor='val_loss', patience=5, min_delta=0.0001)])\n"
   ]
  },
  {
   "cell_type": "code",
   "execution_count": null,
   "metadata": {},
   "outputs": [],
   "source": [
    "accuracy = model.evaluate(X_test,Y_test)\n",
    "print('Test set\\n  Loss: {:0.3f}\\n  Accuracy: {:0.3f}'.format(accr[0],accr[1]))"
   ]
  },
  {
   "cell_type": "code",
   "execution_count": 13,
   "metadata": {},
   "outputs": [
    {
     "name": "stdout",
     "output_type": "stream",
     "text": [
      "Training Accuracy: 0.9517\n",
      "Testing Accuracy:  0.8334\n"
     ]
    }
   ],
   "source": [
    "loss, accuracy = model.evaluate(X_train, Y_train, verbose=False)\n",
    "print(\"Training Accuracy: {:.4f}\".format(accuracy))\n",
    "loss, accuracy = model.evaluate(X_test, Y_test, verbose=False)\n",
    "print(\"Testing Accuracy:  {:.4f}\".format(accuracy))\n"
   ]
  },
  {
   "cell_type": "code",
   "execution_count": 14,
   "metadata": {},
   "outputs": [
    {
     "data": {
      "image/png": "[encoded data removed]",
      "text/plain": [
       "<Figure size 432x288 with 1 Axes>"
      ]
     },
     "metadata": {
      "needs_background": "light"
     },
     "output_type": "display_data"
    }
   ],
   "source": [
    "plt.title('Loss')\n",
    "plt.plot(history.history['loss'], label='train')\n",
    "plt.plot(history.history['val_loss'], label='test')\n",
    "plt.legend()\n",
    "plt.show();"
   ]
  },
  {
   "cell_type": "code",
   "execution_count": 15,
   "metadata": {},
   "outputs": [
    {
     "data": {
      "image/png": "[encoded data removed]",
      "text/plain": [
       "<Figure size 432x288 with 1 Axes>"
      ]
     },
     "metadata": {
      "needs_background": "light"
     },
     "output_type": "display_data"
    }
   ],
   "source": [
    "plt.title('Accuracy')\n",
    "plt.plot(history.history['acc'], label='train')\n",
    "plt.plot(history.history['val_acc'], label='test')\n",
    "plt.legend()\n",
    "plt.show();"
   ]
  },
  {
   "cell_type": "code",
   "execution_count": null,
   "metadata": {},
   "outputs": [],
   "source": [
    "model.predict(X_test).shape"
   ]
  },
  {
   "cell_type": "code",
   "execution_count": null,
   "metadata": {},
   "outputs": [],
   "source": [
    "model.predict_classes(X_test)"
   ]
  },
  {
   "cell_type": "code",
   "execution_count": 16,
   "metadata": {},
   "outputs": [],
   "source": [
    "from sklearn.metrics import confusion_matrix, classification_report"
   ]
  },
  {
   "cell_type": "code",
   "execution_count": 17,
   "metadata": {},
   "outputs": [
    {
     "data": {
      "text/html": [
       "<div>\n",
       "<style scoped>\n",
       "    .dataframe tbody tr th:only-of-type {\n",
       "        vertical-align: middle;\n",
       "    }\n",
       "\n",
       "    .dataframe tbody tr th {\n",
       "        vertical-align: top;\n",
       "    }\n",
       "\n",
       "    .dataframe thead th {\n",
       "        text-align: right;\n",
       "    }\n",
       "</style>\n",
       "<table border=\"1\" class=\"dataframe\">\n",
       "  <thead>\n",
       "    <tr style=\"text-align: right;\">\n",
       "      <th></th>\n",
       "      <th>0</th>\n",
       "      <th>1</th>\n",
       "      <th>2</th>\n",
       "    </tr>\n",
       "  </thead>\n",
       "  <tbody>\n",
       "    <tr>\n",
       "      <th>0</th>\n",
       "      <td>1726</td>\n",
       "      <td>257</td>\n",
       "      <td>211</td>\n",
       "    </tr>\n",
       "    <tr>\n",
       "      <th>1</th>\n",
       "      <td>214</td>\n",
       "      <td>405</td>\n",
       "      <td>497</td>\n",
       "    </tr>\n",
       "    <tr>\n",
       "      <th>2</th>\n",
       "      <td>174</td>\n",
       "      <td>313</td>\n",
       "      <td>6203</td>\n",
       "    </tr>\n",
       "  </tbody>\n",
       "</table>\n",
       "</div>"
      ],
      "text/plain": [
       "      0    1     2\n",
       "0  1726  257   211\n",
       "1   214  405   497\n",
       "2   174  313  6203"
      ]
     },
     "execution_count": 17,
     "metadata": {},
     "output_type": "execute_result"
    }
   ],
   "source": [
    "Y_test_pred = model.predict_classes(X_test)\n",
    "conf_mat = confusion_matrix(Y_test.argmax(axis=1),\n",
    "                            Y_test_pred)\n",
    "\n",
    "pd.DataFrame(conf_mat)"
   ]
  },
  {
   "cell_type": "code",
   "execution_count": 18,
   "metadata": {},
   "outputs": [
    {
     "name": "stdout",
     "output_type": "stream",
     "text": [
      "              precision    recall  f1-score   support\n",
      "\n",
      "           0     0.8165    0.7867    0.8013      2194\n",
      "           1     0.4154    0.3629    0.3874      1116\n",
      "           2     0.8976    0.9272    0.9121      6690\n",
      "\n",
      "   micro avg     0.8334    0.8334    0.8334     10000\n",
      "   macro avg     0.7098    0.6923    0.7003     10000\n",
      "weighted avg     0.8260    0.8334    0.8293     10000\n",
      "\n"
     ]
    }
   ],
   "source": [
    "\n",
    "print(classification_report(Y_test.argmax(axis=1),\n",
    "                            Y_test_pred,\n",
    "                            digits=4))"
   ]
  }
 ],
 "metadata": {
  "kernelspec": {
   "display_name": "Python 3",
   "language": "python",
   "name": "python3"
  },
  "language_info": {
   "codemirror_mode": {
    "name": "ipython",
    "version": 3
   },
   "file_extension": ".py",
   "mimetype": "text/x-python",
   "name": "python",
   "nbconvert_exporter": "python",
   "pygments_lexer": "ipython3",
   "version": "3.7.1"
  }
 },
 "nbformat": 4,
 "nbformat_minor": 2
}
