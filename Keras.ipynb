{
 "cells": [
  {
   "cell_type": "code",
   "execution_count": 35,
   "metadata": {},
   "outputs": [
    {
     "name": "stdout",
     "output_type": "stream",
     "text": [
      "0\n",
      "10000\n",
      "20000\n",
      "30000\n",
      "40000\n",
      "50000\n",
      "60000\n",
      "70000\n",
      "80000\n",
      "90000\n",
      "100000\n",
      "                    review_id                 user_id  stars  \\\n",
      "0      Q1sbwvVQXV2734tPgoKj4Q  hG7b0MtEbXx5QzbzE6C_VA    1.0   \n",
      "1      GJXCdrto3ASJOqKeVWPi6Q  yXQM5uF2jS6es16SJzNHfg    5.0   \n",
      "2      2TzJjDVDEuAW6MR5Vuc1ug  n6-Gk65cPZL6Uz8qRm3NYw    5.0   \n",
      "3      yi0R0Ugj_xUx_Nek0-_Qig  dacAIZ6fTM6mqwW5uxkskg    5.0   \n",
      "4      11a8sVPMUFtaC7_ABRkmtw  ssoyf2_x0EQMed6fgHeMyQ    1.0   \n",
      "5      fdiNeiN_hoCxCMy2wTRW9g  w31MKYsNFMrjhWxxAb5wIw    4.0   \n",
      "6      G7XHMxG0bx9oBJNECG4IFg  jlu4CztcSxrKx56ba1a5AQ    3.0   \n",
      "7      8e9HxxLjjqc9ez5ezzN7iQ  d6xvYpyzcfbF_AZ8vMB7QA    1.0   \n",
      "8      qrffudO73zsslZbe8B9D3Q  sG_h0dIzTKWa3Q6fmb4u-g    2.0   \n",
      "9      RS_GTIT6836bCaPy637kNQ  nMeCE5-xsdleyxYuNZ_7rA    3.0   \n",
      "10     kbtscdyz6lvrtGjD1quQTg  FIk4lQQu1eTe2EpzQ4xhBA    4.0   \n",
      "11     -I5umRTkhw15RqpKMl_o1Q  -mA3-1mN4JIEkqOtdbNXCQ    1.0   \n",
      "12     Z7wgXp98wYB57QdRY3HQ3w  GYNnVehQeXjty0xH7-6Fhw    4.0   \n",
      "13     qlXw1JQ0UodW7qrmVgwCXw  bAhqAPoWaZYcyYi7bs024Q    4.0   \n",
      "14     JVcjMhlavKKn3UIt9p9OXA  TpyOT5E16YASd7EWjLQlrw    1.0   \n",
      "15     svK3nBU7Rk8VfGorlrN52A  NJlxGtouq06hhC7sS2ECYw    5.0   \n",
      "16     1wVA2-vQIuW_ClmXkDxqMQ  86J5DwcFk4f4In1Vxe2TvA    4.0   \n",
      "17     6BnQwlxRn7ZuWdzninM9sQ  JSrP-dUmLlwZiI7Dp3PQ2A    3.0   \n",
      "18     rEITo90tpyKmEfNDp3Ou3A  6Fz_nus_OG4gar721OKgZA    5.0   \n",
      "19     4bUyL7lzoWzDZaJETAKREg  _N7Ndn29bpll_961oPeEfw    3.0   \n",
      "20     Amo5gZBvCuPc_tZNpHwtsA  DzZ7piLBF-WsJxqosfJgtA    5.0   \n",
      "21     IPw8yWiyqnfBzzWmypUHgg  5JVY32_bmTBfIGpCCsnAfw    5.0   \n",
      "22     IByf6mVY0WA838XNSh-5MA  3CJUJILq7CLHk_9OrvpvQg    4.0   \n",
      "23     S337tATeouQJdoPYyir29w  2mxBNBeFrgDszqGS5tdEHA    5.0   \n",
      "24     D_UvaenM25iNd6aehTZ0MA  8NwU4TRsD3S6gIfBqFzDMQ    5.0   \n",
      "25     I9HBDyzCqLhTYHCAZIFZQQ  vXZeHaLvdfCPATz5BDavow    5.0   \n",
      "26     W1wbNaUnbMy4b9QqY3_SAg  vDr8hBNYigiY70fk1kF5iQ    1.0   \n",
      "27     qm97yMwREr7BKkexlwLFbg  TTRVdTXKcq-xn6-1IWbwEw    5.0   \n",
      "28     1daGBpea0sleayFeeXuoYw  q3GeSW9dWN9r_ocqFkhrvg    1.0   \n",
      "29     DAC4zWY2ZMa1vxpN9RrDvA  yxyRt-zoh_A6PMThX-h9Vw    1.0   \n",
      "...                       ...                     ...    ...   \n",
      "99970  MjhzFtzINHDYJMxu4IvYvg  g1P3KlkiA3MUwt4Pvm0SXA    5.0   \n",
      "99971  ECnPVSFcavLlhgd57BWJRw  zrHhzP4omVmB2yCFDzR00Q    2.0   \n",
      "99972  CNO_xObgqsXaBH7Mcb8W2Q  p8Og6MvCiodEv7XL_NlaAQ    4.0   \n",
      "99973  Fe4GwsVIFfJkwubbIrc7aQ  465fjgHXu7WITbSWdwm4Dg    4.0   \n",
      "99974  O85p9UxDH7L5_U2eLLbx5w  gsJS7cL9_cwFrruqjrM20g    2.0   \n",
      "99975  3r4FB_M9BodsDp8-N1cfVQ  nlx3WP91zot51pyl6qHMYA    2.0   \n",
      "99976  qXs3GZUI7_-UmSvTu6iauA  tvftg763t5Y2mmWi_138pA    4.0   \n",
      "99977  oDit9rLzKGtIMKRHozHK0w  d7_iGz6hBkfwj7Vg2Zt0Tw    5.0   \n",
      "99978  L4LgLCqFIXJfKe-BteOuxw  e27QXkUVQ3WLvZVrLCBfWw    5.0   \n",
      "99979  r_kCXWdA3HNgGVDbgR7Q3A  IYSP1bia4DH3mI2em4N53Q    3.0   \n",
      "99980  kDZtj-Y3q-USTkvLSSMxdw  sTbMiDUDE4_NFEZXZnL8MQ    5.0   \n",
      "99981  AefyW4cMk6x7BoqONvVZlg  KOCTzVjNJC00kCfLTzYe4A    1.0   \n",
      "99982  HSyW6gxEKguITFecPr92qQ  s0wOwU_bkxfTMW2oFnM_tQ    5.0   \n",
      "99983  1o83ymVnC4tTsixb90JY5w  zwpP3Lt8USKS91Ds52G8UA    4.0   \n",
      "99984  yxjwVD3wuSdoK1oE91xzFA  yvcSQO37U-ApmLt45qKeYw    4.0   \n",
      "99985  xWPCxUwx2mRhCPx7L7L4fA  mJtzqCBsNJUQY91RBTSiDA    5.0   \n",
      "99986  EASZg9QBT1hocltQ7ZYJoA  SdJ_D7kirRYOlVDKc8ahTQ    3.0   \n",
      "99987  juogz8FFXmZQ_mrbLMl07w  Em4XpeXTKXVy4GjBL291pA    4.0   \n",
      "99988  DjHRJGo6wWFJ5GK2Kpg9Cg  PKEzKWv_FktMm2mGPjwd0Q    4.0   \n",
      "99989  xCIQz58OIKbrpTnGhpsj2g  ZasnMM8_txs6ilZUF_P57A    3.0   \n",
      "99990  BiXwdKpvQTLu1mLRCFWctg  Vc1Vb_w6B3G-a8PP7pQ2HQ    5.0   \n",
      "99991  2ANCxGG8is_YMZTMqsCclQ  v-r0WXx67nJrKdiPwOoDYw    5.0   \n",
      "99992  xAKRKU6y3mn8ZRH5W-pIzQ  M1R6MCqbBWwOtXe6JyzvqA    5.0   \n",
      "99993  1gKfqQK3gwEHMo55ox3CxA  lGNOQpsC84S-bfVq_5QtTA    5.0   \n",
      "99994  L7JDYnmBF17MaX7olJiEtQ  pRef2N4IFtTcIbYYA4giaA    3.0   \n",
      "99995  R3OQnzCBPtD6e3XJbm7vaw  kZA-neTnGq6gzLt7k70kEQ    3.0   \n",
      "99996  C0M_WaqYfHZTuE4Y6t-imA  7D4A_euL-c2-X9d51TnZtw    1.0   \n",
      "99997  AYSWzH_46u-ZosyA-_z24A  Mfn6rBrTZg1ysBoknKt1TQ    5.0   \n",
      "99998  zn9SwnAilArrWHKZ8141Tg  _D9uaoR1I9o2aIEODh4r9A    5.0   \n",
      "99999  mOMTlXyIUF6v8n9yUgZDgA  zemsVfzVyyJDPRg6742H4Q    5.0   \n",
      "\n",
      "                                                    text  \n",
      "0      Total bill for this horrible service? Over $8G...  \n",
      "1      I *adore* Travis at the Hard Rock's new Kelly ...  \n",
      "2      I have to say that this office really has it t...  \n",
      "3      Went in for a lunch. Steak sandwich was delici...  \n",
      "4      Today was my second out of three sessions I ha...  \n",
      "5      I'll be the first to admit that I was not exci...  \n",
      "6      Tracy dessert had a big name in Hong Kong and ...  \n",
      "7      This place has gone down hill.  Clearly they h...  \n",
      "8      I was really looking forward to visiting after...  \n",
      "9      It's a giant Best Buy with 66 registers.  I do...  \n",
      "10     Like walking back in time, every Saturday morn...  \n",
      "11     Walked in around 4 on a Friday afternoon, we s...  \n",
      "12     Wow. So surprised at the one and two star revi...  \n",
      "13     Michael from Red Carpet VIP is amazing ! I rea...  \n",
      "14     I cannot believe how things have changed in 3 ...  \n",
      "15     You can't really find anything wrong with this...  \n",
      "16     Great lunch today. Staff was very helpful in a...  \n",
      "17     I love chinese food and I love mexican food. W...  \n",
      "18     We've been a huge Slim's fan since they opened...  \n",
      "19     Good selection of classes of beers and mains. ...  \n",
      "20     Our family LOVES the food here. Quick, friendl...  \n",
      "21     If you are looking for the best pierogies in P...  \n",
      "22     The food is always good and the prices are rea...  \n",
      "23     Pick any meat on the planet and the chef will ...  \n",
      "24     Great food, great service. Obviously fried chi...  \n",
      "25     PlumbSmart provided superior service from begi...  \n",
      "26     Unfortunately, I must recommend not to conduct...  \n",
      "27     their pettuccine was fresh-made in the morning...  \n",
      "28     if i can give this place no stars i would, i o...  \n",
      "29     This review is in regards to our experience wa...  \n",
      "...                                                  ...  \n",
      "99970  This is the best kosher market in the Valley. ...  \n",
      "99971  This review is mainly based on the service we ...  \n",
      "99972  Awesome & great tasting food, extremely long l...  \n",
      "99973  They have a great selection of clothes for my ...  \n",
      "99974  I went to this timmies to get some coffee and ...  \n",
      "99975  I'm not certain why people would pay for this....  \n",
      "99976  I was attending the Action on Film Megafest an...  \n",
      "99977  I love this office and the care takers in it a...  \n",
      "99978  Stopped in for the Saturday Brunch with unlimi...  \n",
      "99979  I have ordered a couple of sandwiches from thi...  \n",
      "99980  After dealing with another company that wanted...  \n",
      "99981  Unfortunately I had an awful experience with t...  \n",
      "99982  Ordered in on a rainy windy day, they accommod...  \n",
      "99983  The Tempe location always has excellent servic...  \n",
      "99984  La bouffe est bonne, le service est bon. On a ...  \n",
      "99985  great food at a reasonable price....bartenders...  \n",
      "99986  Checked out Lucky Lou's for happy hour last ni...  \n",
      "99987  I came here lastnight with my 4 other friends....  \n",
      "99988  I have used Rain in both of its spellings for ...  \n",
      "99989  This place has a nice vibe and ambiance to it....  \n",
      "99990  I Originally came here because I saw pictures ...  \n",
      "99991  This is one of my favorite escape rooms I have...  \n",
      "99992  The food is very good.  It's worth a trip just...  \n",
      "99993  Hands down the best Thai food in Charlotte. Re...  \n",
      "99994  First Vegas buffet in the books, and here's th...  \n",
      "99995  I love the clothes in Aritzia. The service I c...  \n",
      "99996  We went here to have a small dinner with famil...  \n",
      "99997  Amazing!!! Our 2 boys never had this much fun ...  \n",
      "99998  Wanted a short hair cut but didn't have a regu...  \n",
      "99999  This place is rad! Dueling pianos, happy hour ...  \n",
      "\n",
      "[100000 rows x 4 columns]\n"
     ]
    }
   ],
   "source": [
    "import numpy as np \n",
    "import pandas as pd \n",
    "import re\n",
    "import nltk \n",
    "import json\n",
    "import matplotlib.pyplot as plt\n",
    "%matplotlib inline\n",
    "import itertools\n",
    "import os\n",
    "\n",
    "%matplotlib inline\n",
    "import matplotlib.pyplot as plt\n",
    "import numpy as np\n",
    "import pandas as pd\n",
    "import tensorflow as tf\n",
    "\n",
    "from sklearn.preprocessing import LabelBinarizer, LabelEncoder\n",
    "from sklearn.metrics import confusion_matrix\n",
    "\n",
    "from tensorflow import keras\n",
    "from keras.models import Sequential\n",
    "from keras.layers import Dense, Activation, Dropout\n",
    "from keras.preprocessing import text, sequence\n",
    "from keras import utils\n",
    "\n",
    "# open input file: \n",
    "ifile = open('C:\\\\Users\\\\Alexandros Ntzoufas\\\\Desktop\\\\MSC in BA\\\\3) Spring\\\\Big data contect analytics\\\\Projects Guide\\\\xaa.json', encoding='utf8') \n",
    "\n",
    "# read the first 100k entries\n",
    "# set to -1 to process everything\n",
    "stop = 100000\n",
    "all_data = list()\n",
    "for i, line in enumerate(ifile):\n",
    "    if i%10000==0:\n",
    "        print(i)\n",
    "    if i==stop:\n",
    "        break    \n",
    "    # convert the json on this line to a dict\n",
    "    data = json.loads(line)\n",
    "    # extract what we want\n",
    "    review_id=data['review_id']\n",
    "    user_id=data['user_id']\n",
    "    text = data['text']\n",
    "    stars = data['stars']\n",
    "    # add to the data collected so far\n",
    "    all_data.append([review_id, user_id, stars, text])\n",
    "# create the DataFrame\n",
    "df = pd.DataFrame(all_data, columns=['review_id','user_id','stars','text'])\n",
    "print(df)\n",
    "\n",
    "ifile.close()\n",
    "\n",
    "\n",
    "df['sentiment']=\"\"\n",
    "df.loc[df['stars']==1, ['sentiment']]='negative' \n",
    "df.loc[df['stars']==2, ['sentiment']]='negative'\n",
    "df.loc[df['stars']==3, ['sentiment']]='neutral'\n",
    "df.loc[df['stars']==4, ['sentiment']]='posotive'\n",
    "df.loc[df['stars']==5, ['sentiment']]='posotive'\n",
    "\n",
    "df= df.drop(['review_id', 'user_id', 'stars'], axis=1)"
   ]
  },
  {
   "cell_type": "code",
   "execution_count": 36,
   "metadata": {},
   "outputs": [],
   "source": [
    "from nltk.corpus import stopwords\n",
    "\n",
    "df = df.reset_index(drop=True)\n",
    "replace_by_space = re.compile('[/(){}\\[\\]\\|@,;]')\n",
    "exclude_bad_symbols = re.compile('[^0-9a-z #+_]')\n",
    "stopwords = set(stopwords.words('english'))\n",
    "\n",
    "def clean_text(text):\n",
    "    \"\"\"\n",
    "        text: a string\n",
    "        \n",
    "        return: modified initial string\n",
    "    \"\"\"\n",
    "    text = text.lower() # lowercase text\n",
    "    text = replace_by_space.sub(' ', text) # replace by spac \n",
    "    text = exclude_bad_symbols.sub('', text) # remove symbols  \n",
    "    text = text.replace('x', '')\n",
    "#    text = re.sub(r'\\W+', '', text)\n",
    "    text = ' '.join(word for word in text.split() if word not in stopwords) # remove stopwors \n",
    "    return text\n",
    "df['text'] = df['text'].apply(clean_text)\n",
    "df['text'] = df['text'].str.replace('\\d+', '')\n"
   ]
  },
  {
   "cell_type": "code",
   "execution_count": 13,
   "metadata": {},
   "outputs": [
    {
     "name": "stdout",
     "output_type": "stream",
     "text": [
      "Found 9797 unique tokens.\n"
     ]
    }
   ],
   "source": []
  },
  {
   "cell_type": "code",
   "execution_count": 37,
   "metadata": {},
   "outputs": [],
   "source": [
    "\n",
    "train_size = int(len(df) * .7)\n",
    "train_posts = df['text'][:train_size]\n",
    "train_tags = df['sentiment'][:train_size]\n",
    "\n",
    "test_posts = df['text'][train_size:]\n",
    "test_tags = df['sentiment'][train_size:]\n"
   ]
  },
  {
   "cell_type": "code",
   "execution_count": 33,
   "metadata": {},
   "outputs": [
    {
     "data": {
      "text/html": [
       "<div>\n",
       "<style scoped>\n",
       "    .dataframe tbody tr th:only-of-type {\n",
       "        vertical-align: middle;\n",
       "    }\n",
       "\n",
       "    .dataframe tbody tr th {\n",
       "        vertical-align: top;\n",
       "    }\n",
       "\n",
       "    .dataframe thead th {\n",
       "        text-align: right;\n",
       "    }\n",
       "</style>\n",
       "<table border=\"1\" class=\"dataframe\">\n",
       "  <thead>\n",
       "    <tr style=\"text-align: right;\">\n",
       "      <th></th>\n",
       "      <th>text</th>\n",
       "      <th>sentiment</th>\n",
       "    </tr>\n",
       "  </thead>\n",
       "  <tbody>\n",
       "    <tr>\n",
       "      <th>0</th>\n",
       "      <td>total bill horrible service gs crooks actually...</td>\n",
       "      <td>negative</td>\n",
       "    </tr>\n",
       "    <tr>\n",
       "      <th>1</th>\n",
       "      <td>adore travis hard rocks new kelly cardenas sal...</td>\n",
       "      <td>posotive</td>\n",
       "    </tr>\n",
       "    <tr>\n",
       "      <th>2</th>\n",
       "      <td>say office really together organized friendly ...</td>\n",
       "      <td>posotive</td>\n",
       "    </tr>\n",
       "    <tr>\n",
       "      <th>3</th>\n",
       "      <td>went lunch steak sandwich delicious caesar sal...</td>\n",
       "      <td>posotive</td>\n",
       "    </tr>\n",
       "    <tr>\n",
       "      <th>4</th>\n",
       "      <td>today second three sessions paid although firs...</td>\n",
       "      <td>negative</td>\n",
       "    </tr>\n",
       "  </tbody>\n",
       "</table>\n",
       "</div>"
      ],
      "text/plain": [
       "                                                text sentiment\n",
       "0  total bill horrible service gs crooks actually...  negative\n",
       "1  adore travis hard rocks new kelly cardenas sal...  posotive\n",
       "2  say office really together organized friendly ...  posotive\n",
       "3  went lunch steak sandwich delicious caesar sal...  posotive\n",
       "4  today second three sessions paid although firs...  negative"
      ]
     },
     "execution_count": 33,
     "metadata": {},
     "output_type": "execute_result"
    }
   ],
   "source": [
    "df.head()"
   ]
  },
  {
   "cell_type": "code",
   "execution_count": 54,
   "metadata": {},
   "outputs": [
    {
     "name": "stdout",
     "output_type": "stream",
     "text": [
      "_________________________________________________________________\n",
      "Layer (type)                 Output Shape              Param #   \n",
      "=================================================================\n",
      "dense_13 (Dense)             (None, 512)               5120512   \n",
      "_________________________________________________________________\n",
      "activation_13 (Activation)   (None, 512)               0         \n",
      "_________________________________________________________________\n",
      "dropout_7 (Dropout)          (None, 512)               0         \n",
      "_________________________________________________________________\n",
      "dense_14 (Dense)             (None, 3)                 1539      \n",
      "_________________________________________________________________\n",
      "activation_14 (Activation)   (None, 3)                 0         \n",
      "=================================================================\n",
      "Total params: 5,122,051\n",
      "Trainable params: 5,122,051\n",
      "Non-trainable params: 0\n",
      "_________________________________________________________________\n"
     ]
    }
   ],
   "source": [
    "import itertools\n",
    "import os\n",
    "\n",
    "%matplotlib inline\n",
    "import matplotlib.pyplot as plt\n",
    "import numpy as np\n",
    "import pandas as pd\n",
    "import tensorflow as tf\n",
    "\n",
    "from sklearn.preprocessing import LabelBinarizer, LabelEncoder\n",
    "from sklearn.metrics import confusion_matrix\n",
    "\n",
    "from tensorflow import keras\n",
    "from keras.models import Sequential\n",
    "from keras.layers import Dense, Activation, Dropout\n",
    "from keras.preprocessing import text, sequence\n",
    "from keras import utils\n",
    "\n",
    "train_size = int(len(df) * .7)\n",
    "train_posts = df['text'][:train_size]\n",
    "train_tags = df['sentiment'][:train_size]\n",
    "\n",
    "test_posts = df['text'][train_size:]\n",
    "test_tags = df['sentiment'][train_size:]\n",
    "\n",
    "max_words = 10000\n",
    "tokenize = text.Tokenizer(num_words=max_words, char_level=False)\n",
    "tokenize.fit_on_texts(train_posts) # only fit on train\n",
    "\n",
    "x_train = tokenize.texts_to_matrix(train_posts)\n",
    "x_test = tokenize.texts_to_matrix(test_posts)\n",
    "\n",
    "encoder = LabelEncoder()\n",
    "encoder.fit(train_tags)\n",
    "y_train = encoder.transform(train_tags)\n",
    "y_test = encoder.transform(test_tags)\n",
    "\n",
    "num_classes = np.max(y_train) + 1\n",
    "y_train = utils.to_categorical(y_train, num_classes)\n",
    "y_test = utils.to_categorical(y_test, num_classes)\n",
    "\n",
    "batch_size = 32\n",
    "\n",
    "\n",
    "# Build the model\n",
    "model = Sequential()\n",
    "model.add(Dense(512, input_shape=(max_words,)))\n",
    "model.add(Activation('relu'))\n",
    "model.add(Dropout(0.5))\n",
    "model.add(Dense(num_classes))\n",
    "model.add(Activation('softmax'))\n",
    "\n",
    "model.compile(loss='categorical_crossentropy',\n",
    "              optimizer='adam',\n",
    "              metrics=['accuracy'])\n",
    "              \n",
    "model.summary()"
   ]
  },
  {
   "cell_type": "code",
   "execution_count": 55,
   "metadata": {},
   "outputs": [
    {
     "name": "stdout",
     "output_type": "stream",
     "text": [
      "Train on 63000 samples, validate on 7000 samples\n",
      "Epoch 1/15\n",
      "63000/63000 [==============================] - 118s 2ms/step - loss: 0.4284 - acc: 0.8380 - val_loss: 0.3821 - val_acc: 0.8539\n",
      "Epoch 2/15\n",
      "63000/63000 [==============================] - 114s 2ms/step - loss: 0.3022 - acc: 0.8867 - val_loss: 0.4091 - val_acc: 0.8437\n",
      "Epoch 3/15\n",
      "63000/63000 [==============================] - 115s 2ms/step - loss: 0.1922 - acc: 0.9328 - val_loss: 0.4570 - val_acc: 0.8453\n",
      "Epoch 4/15\n",
      "63000/63000 [==============================] - 112s 2ms/step - loss: 0.1029 - acc: 0.9675 - val_loss: 0.5397 - val_acc: 0.8397\n",
      "Epoch 5/15\n",
      "63000/63000 [==============================] - 112s 2ms/step - loss: 0.0549 - acc: 0.9839 - val_loss: 0.6545 - val_acc: 0.8429\n",
      "Epoch 6/15\n",
      "63000/63000 [==============================] - 112s 2ms/step - loss: 0.0342 - acc: 0.9904 - val_loss: 0.7339 - val_acc: 0.8401\n"
     ]
    }
   ],
   "source": [
    "\n",
    "from keras.callbacks import ModelCheckpoint, EarlyStopping\n",
    "epochs = 15\n",
    "history = model.fit(x_train, y_train,\n",
    "                    batch_size=batch_size,\n",
    "                    epochs=epochs,\n",
    "                    verbose=1,\n",
    "                    validation_split=0.1,callbacks=[EarlyStopping(monitor='val_loss',patience=5, min_delta=0.0001)])\n",
    "\n"
   ]
  },
  {
   "cell_type": "code",
   "execution_count": 56,
   "metadata": {},
   "outputs": [
    {
     "name": "stdout",
     "output_type": "stream",
     "text": [
      "Training Accuracy: 0.9834\n",
      "Testing Accuracy:  0.8400\n"
     ]
    }
   ],
   "source": [
    "loss, accuracy = model.evaluate(x_train, y_train, verbose=False)\n",
    "print(\"Training Accuracy: {:.4f}\".format(accuracy))\n",
    "loss, accuracy = model.evaluate(x_test, y_test, verbose=False)\n",
    "print(\"Testing Accuracy:  {:.4f}\".format(accuracy))\n"
   ]
  },
  {
   "cell_type": "code",
   "execution_count": 57,
   "metadata": {},
   "outputs": [
    {
     "data": {
      "image/png": "[encoded data removed]",
      "text/plain": [
       "<Figure size 432x288 with 1 Axes>"
      ]
     },
     "metadata": {
      "needs_background": "light"
     },
     "output_type": "display_data"
    }
   ],
   "source": [
    "plt.title('Loss')\n",
    "plt.plot(history.history['loss'], label='train')\n",
    "plt.plot(history.history['val_loss'], label='test')\n",
    "plt.legend()\n",
    "plt.show();"
   ]
  },
  {
   "cell_type": "code",
   "execution_count": 58,
   "metadata": {},
   "outputs": [
    {
     "data": {
      "image/png": "[encoded data removed]",
      "text/plain": [
       "<Figure size 432x288 with 1 Axes>"
      ]
     },
     "metadata": {
      "needs_background": "light"
     },
     "output_type": "display_data"
    }
   ],
   "source": [
    "plt.title('Accuracy')\n",
    "plt.plot(history.history['acc'], label='train')\n",
    "plt.plot(history.history['val_acc'], label='test')\n",
    "plt.legend()\n",
    "plt.show();"
   ]
  },
  {
   "cell_type": "code",
   "execution_count": 61,
   "metadata": {},
   "outputs": [
    {
     "data": {
      "text/html": [
       "<div>\n",
       "<style scoped>\n",
       "    .dataframe tbody tr th:only-of-type {\n",
       "        vertical-align: middle;\n",
       "    }\n",
       "\n",
       "    .dataframe tbody tr th {\n",
       "        vertical-align: top;\n",
       "    }\n",
       "\n",
       "    .dataframe thead th {\n",
       "        text-align: right;\n",
       "    }\n",
       "</style>\n",
       "<table border=\"1\" class=\"dataframe\">\n",
       "  <thead>\n",
       "    <tr style=\"text-align: right;\">\n",
       "      <th></th>\n",
       "      <th>0</th>\n",
       "      <th>1</th>\n",
       "      <th>2</th>\n",
       "    </tr>\n",
       "  </thead>\n",
       "  <tbody>\n",
       "    <tr>\n",
       "      <th>0</th>\n",
       "      <td>5594</td>\n",
       "      <td>518</td>\n",
       "      <td>724</td>\n",
       "    </tr>\n",
       "    <tr>\n",
       "      <th>1</th>\n",
       "      <td>871</td>\n",
       "      <td>822</td>\n",
       "      <td>1620</td>\n",
       "    </tr>\n",
       "    <tr>\n",
       "      <th>2</th>\n",
       "      <td>520</td>\n",
       "      <td>546</td>\n",
       "      <td>18785</td>\n",
       "    </tr>\n",
       "  </tbody>\n",
       "</table>\n",
       "</div>"
      ],
      "text/plain": [
       "      0    1      2\n",
       "0  5594  518    724\n",
       "1   871  822   1620\n",
       "2   520  546  18785"
      ]
     },
     "execution_count": 61,
     "metadata": {},
     "output_type": "execute_result"
    }
   ],
   "source": [
    "from sklearn.metrics import confusion_matrix, classification_report\n",
    "Y_test_pred = model.predict_classes(x_test)\n",
    "conf_mat = confusion_matrix(y_test.argmax(axis=1),\n",
    "                            Y_test_pred)\n",
    "\n",
    "pd.DataFrame(conf_mat)"
   ]
  },
  {
   "cell_type": "code",
   "execution_count": 62,
   "metadata": {},
   "outputs": [
    {
     "name": "stdout",
     "output_type": "stream",
     "text": [
      "              precision    recall  f1-score   support\n",
      "\n",
      "           0     0.8009    0.8183    0.8095      6836\n",
      "           1     0.4358    0.2481    0.3162      3313\n",
      "           2     0.8891    0.9463    0.9168     19851\n",
      "\n",
      "   micro avg     0.8400    0.8400    0.8400     30000\n",
      "   macro avg     0.7086    0.6709    0.6808     30000\n",
      "weighted avg     0.8189    0.8400    0.8260     30000\n",
      "\n"
     ]
    }
   ],
   "source": [
    "print(classification_report(y_test.argmax(axis=1),\n",
    "                            Y_test_pred,\n",
    "                            digits=4))"
   ]
  }
 ],
 "metadata": {
  "kernelspec": {
   "display_name": "Python 3",
   "language": "python",
   "name": "python3"
  },
  "language_info": {
   "codemirror_mode": {
    "name": "ipython",
    "version": 3
   },
   "file_extension": ".py",
   "mimetype": "text/x-python",
   "name": "python",
   "nbconvert_exporter": "python",
   "pygments_lexer": "ipython3",
   "version": "3.7.1"
  }
 },
 "nbformat": 4,
 "nbformat_minor": 2
}
